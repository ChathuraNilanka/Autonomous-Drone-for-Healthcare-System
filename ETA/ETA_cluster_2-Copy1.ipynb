{
 "cells": [
  {
   "cell_type": "code",
   "execution_count": 225,
   "metadata": {},
   "outputs": [],
   "source": [
    "import numpy as np \n",
    "import pandas as pd \n",
    "from sklearn.impute import SimpleImputer\n",
    "from sklearn.preprocessing import LabelEncoder, OneHotEncoder \n",
    "from sklearn.model_selection import train_test_split \n",
    "from sklearn.preprocessing import StandardScaler\n",
    "from sklearn.cluster import KMeans\n",
    "from sklearn.decomposition import PCA\n",
    "import seaborn as sns\n",
    "import matplotlib.pyplot as plt\n",
    "from sklearn.ensemble import RandomForestClassifier\n",
    "from sklearn.preprocessing import MinMaxScaler\n",
    "from sklearn.linear_model import LogisticRegression\n",
    "from sklearn.svm import SVR\n",
    "from sklearn import preprocessing"
   ]
  },
  {
   "cell_type": "code",
   "execution_count": 226,
   "metadata": {},
   "outputs": [
    {
     "data": {
      "text/html": [
       "<div>\n",
       "<style scoped>\n",
       "    .dataframe tbody tr th:only-of-type {\n",
       "        vertical-align: middle;\n",
       "    }\n",
       "\n",
       "    .dataframe tbody tr th {\n",
       "        vertical-align: top;\n",
       "    }\n",
       "\n",
       "    .dataframe thead th {\n",
       "        text-align: right;\n",
       "    }\n",
       "</style>\n",
       "<table border=\"1\" class=\"dataframe\">\n",
       "  <thead>\n",
       "    <tr style=\"text-align: right;\">\n",
       "      <th></th>\n",
       "      <th>center</th>\n",
       "      <th>d_lat</th>\n",
       "      <th>d_long</th>\n",
       "      <th>distance</th>\n",
       "      <th>humadity</th>\n",
       "      <th>wind speed</th>\n",
       "      <th>propeller_size</th>\n",
       "      <th>max_speed</th>\n",
       "      <th>altitude</th>\n",
       "      <th>weight</th>\n",
       "      <th>ETA</th>\n",
       "    </tr>\n",
       "  </thead>\n",
       "  <tbody>\n",
       "    <tr>\n",
       "      <td>0</td>\n",
       "      <td>1</td>\n",
       "      <td>6.941162</td>\n",
       "      <td>79.99367</td>\n",
       "      <td>1130</td>\n",
       "      <td>50</td>\n",
       "      <td>1.0</td>\n",
       "      <td>1</td>\n",
       "      <td>1.5</td>\n",
       "      <td>50</td>\n",
       "      <td>100</td>\n",
       "      <td>1130.945333</td>\n",
       "    </tr>\n",
       "    <tr>\n",
       "      <td>1</td>\n",
       "      <td>1</td>\n",
       "      <td>6.939394</td>\n",
       "      <td>79.99892</td>\n",
       "      <td>1670</td>\n",
       "      <td>55</td>\n",
       "      <td>2.0</td>\n",
       "      <td>1</td>\n",
       "      <td>1.5</td>\n",
       "      <td>50</td>\n",
       "      <td>150</td>\n",
       "      <td>1523.703030</td>\n",
       "    </tr>\n",
       "    <tr>\n",
       "      <td>2</td>\n",
       "      <td>1</td>\n",
       "      <td>6.937818</td>\n",
       "      <td>79.99546</td>\n",
       "      <td>1210</td>\n",
       "      <td>58</td>\n",
       "      <td>3.0</td>\n",
       "      <td>1</td>\n",
       "      <td>1.5</td>\n",
       "      <td>50</td>\n",
       "      <td>125</td>\n",
       "      <td>1124.564475</td>\n",
       "    </tr>\n",
       "    <tr>\n",
       "      <td>3</td>\n",
       "      <td>1</td>\n",
       "      <td>6.935539</td>\n",
       "      <td>79.99040</td>\n",
       "      <td>630</td>\n",
       "      <td>49</td>\n",
       "      <td>3.0</td>\n",
       "      <td>1</td>\n",
       "      <td>1.5</td>\n",
       "      <td>50</td>\n",
       "      <td>130</td>\n",
       "      <td>649.773905</td>\n",
       "    </tr>\n",
       "    <tr>\n",
       "      <td>4</td>\n",
       "      <td>1</td>\n",
       "      <td>6.938670</td>\n",
       "      <td>79.98911</td>\n",
       "      <td>578</td>\n",
       "      <td>51</td>\n",
       "      <td>2.0</td>\n",
       "      <td>1</td>\n",
       "      <td>1.5</td>\n",
       "      <td>50</td>\n",
       "      <td>250</td>\n",
       "      <td>619.764486</td>\n",
       "    </tr>\n",
       "  </tbody>\n",
       "</table>\n",
       "</div>"
      ],
      "text/plain": [
       "   center     d_lat    d_long  distance  humadity  wind speed  propeller_size  \\\n",
       "0       1  6.941162  79.99367      1130        50         1.0               1   \n",
       "1       1  6.939394  79.99892      1670        55         2.0               1   \n",
       "2       1  6.937818  79.99546      1210        58         3.0               1   \n",
       "3       1  6.935539  79.99040       630        49         3.0               1   \n",
       "4       1  6.938670  79.98911       578        51         2.0               1   \n",
       "\n",
       "   max_speed  altitude  weight          ETA  \n",
       "0        1.5        50     100  1130.945333  \n",
       "1        1.5        50     150  1523.703030  \n",
       "2        1.5        50     125  1124.564475  \n",
       "3        1.5        50     130   649.773905  \n",
       "4        1.5        50     250   619.764486  "
      ]
     },
     "execution_count": 226,
     "metadata": {},
     "output_type": "execute_result"
    }
   ],
   "source": [
    "# loading dataset\n",
    "dataset = pd.read_csv(\"C:/Users/23223/OneDrive/Desktop/research/ETA/dataset/FinalDataset.csv\")\n",
    "dataset.head()"
   ]
  },
  {
   "cell_type": "code",
   "execution_count": 227,
   "metadata": {},
   "outputs": [
    {
     "name": "stdout",
     "output_type": "stream",
     "text": [
      "<class 'pandas.core.frame.DataFrame'>\n",
      "RangeIndex: 400 entries, 0 to 399\n",
      "Data columns (total 11 columns):\n",
      "center            400 non-null int64\n",
      "d_lat             400 non-null float64\n",
      "d_long            400 non-null float64\n",
      "distance          400 non-null int64\n",
      "humadity          400 non-null int64\n",
      "wind speed        400 non-null float64\n",
      "propeller_size    400 non-null int64\n",
      "max_speed         400 non-null float64\n",
      "altitude          400 non-null int64\n",
      "weight            400 non-null int64\n",
      "ETA               400 non-null float64\n",
      "dtypes: float64(5), int64(6)\n",
      "memory usage: 34.5 KB\n"
     ]
    }
   ],
   "source": [
    "dataset.info()"
   ]
  },
  {
   "cell_type": "code",
   "execution_count": 228,
   "metadata": {},
   "outputs": [],
   "source": [
    " data = dataset[['center',\n",
    " 'd_lat',\n",
    " 'd_long',\n",
    " 'distance',\n",
    " 'humadity',\n",
    " 'wind speed',\n",
    " 'propeller_size',\n",
    " 'max_speed',\n",
    " 'altitude',\n",
    " 'weight',\n",
    " 'ETA']]\n"
   ]
  },
  {
   "cell_type": "code",
   "execution_count": 229,
   "metadata": {},
   "outputs": [],
   "source": [
    "# initialize scaler and fit the dataset\n",
    "mms = MinMaxScaler()\n",
    "mms.fit(dataset)\n",
    "data_transformed = mms.transform(dataset)"
   ]
  },
  {
   "cell_type": "code",
   "execution_count": 230,
   "metadata": {},
   "outputs": [],
   "source": [
    "# using ebow method to find best num of cluster\n",
    "Sum_of_squared_distances = []\n",
    "K = range(1,15)\n",
    "for k in K:\n",
    "    km = KMeans(n_clusters=k)\n",
    "    km = km.fit(dataset)\n",
    "    Sum_of_squared_distances.append(km.inertia_)"
   ]
  },
  {
   "cell_type": "code",
   "execution_count": 231,
   "metadata": {},
   "outputs": [
    {
     "data": {
      "image/png": "[encoded data removed]",
      "text/plain": [
       "<Figure size 432x288 with 1 Axes>"
      ]
     },
     "metadata": {
      "needs_background": "light"
     },
     "output_type": "display_data"
    }
   ],
   "source": [
    "# plot the elbow curwe\n",
    "plt.plot(K, Sum_of_squared_distances, 'bx-')\n",
    "plt.xlabel('k')\n",
    "plt.ylabel('Sum_of_squared_distances')\n",
    "plt.title('Elbow Method For Optimal k')\n",
    "plt.show()"
   ]
  },
  {
   "cell_type": "code",
   "execution_count": 232,
   "metadata": {},
   "outputs": [],
   "source": [
    "# initialize k means cluster\n",
    "clustering_kmeans = KMeans(n_clusters=2, random_state=0)\n",
    "data['clusters'] = clustering_kmeans.fit_predict(data)\n",
    "\n",
    "df = pd.DataFrame(data)\n",
    "df.to_csv(\"output.csv\",index=False)"
   ]
  },
  {
   "cell_type": "code",
   "execution_count": 233,
   "metadata": {},
   "outputs": [
    {
     "data": {
      "image/png": "[encoded data removed]",
      "text/plain": [
       "<Figure size 432x288 with 1 Axes>"
      ]
     },
     "metadata": {
      "needs_background": "light"
     },
     "output_type": "display_data"
    }
   ],
   "source": [
    "# plot the desribution of dataset according to clusters\n",
    "reduced_data = PCA(n_components=2).fit_transform(data)\n",
    "results = pd.DataFrame(reduced_data,columns=['pca1','pca2'])\n",
    "\n",
    "sns.scatterplot(x=\"pca1\", y=\"pca2\", hue=data['clusters'], data=results)\n",
    "plt.title('K-means Clustering with 2 dimensions')\n",
    "plt.show()"
   ]
  },
  {
   "cell_type": "code",
   "execution_count": 234,
   "metadata": {},
   "outputs": [
    {
     "data": {
      "text/plain": [
       "0    293\n",
       "1    107\n",
       "Name: clusters, dtype: int64"
      ]
     },
     "execution_count": 234,
     "metadata": {},
     "output_type": "execute_result"
    }
   ],
   "source": [
    "data['clusters'].value_counts()"
   ]
  },
  {
   "cell_type": "code",
   "execution_count": 235,
   "metadata": {},
   "outputs": [
    {
     "data": {
      "text/html": [
       "<div>\n",
       "<style scoped>\n",
       "    .dataframe tbody tr th:only-of-type {\n",
       "        vertical-align: middle;\n",
       "    }\n",
       "\n",
       "    .dataframe tbody tr th {\n",
       "        vertical-align: top;\n",
       "    }\n",
       "\n",
       "    .dataframe thead th {\n",
       "        text-align: right;\n",
       "    }\n",
       "</style>\n",
       "<table border=\"1\" class=\"dataframe\">\n",
       "  <thead>\n",
       "    <tr style=\"text-align: right;\">\n",
       "      <th></th>\n",
       "      <th>center</th>\n",
       "      <th>d_lat</th>\n",
       "      <th>d_long</th>\n",
       "      <th>distance</th>\n",
       "      <th>humadity</th>\n",
       "      <th>wind speed</th>\n",
       "      <th>propeller_size</th>\n",
       "      <th>max_speed</th>\n",
       "      <th>altitude</th>\n",
       "      <th>weight</th>\n",
       "      <th>ETA</th>\n",
       "    </tr>\n",
       "  </thead>\n",
       "  <tbody>\n",
       "    <tr>\n",
       "      <td>0</td>\n",
       "      <td>1</td>\n",
       "      <td>6.941162</td>\n",
       "      <td>79.99367</td>\n",
       "      <td>1130</td>\n",
       "      <td>50</td>\n",
       "      <td>1.0</td>\n",
       "      <td>1</td>\n",
       "      <td>1.5</td>\n",
       "      <td>50</td>\n",
       "      <td>100</td>\n",
       "      <td>1130.945333</td>\n",
       "    </tr>\n",
       "    <tr>\n",
       "      <td>1</td>\n",
       "      <td>1</td>\n",
       "      <td>6.939394</td>\n",
       "      <td>79.99892</td>\n",
       "      <td>1670</td>\n",
       "      <td>55</td>\n",
       "      <td>2.0</td>\n",
       "      <td>1</td>\n",
       "      <td>1.5</td>\n",
       "      <td>50</td>\n",
       "      <td>150</td>\n",
       "      <td>1523.703030</td>\n",
       "    </tr>\n",
       "    <tr>\n",
       "      <td>2</td>\n",
       "      <td>1</td>\n",
       "      <td>6.937818</td>\n",
       "      <td>79.99546</td>\n",
       "      <td>1210</td>\n",
       "      <td>58</td>\n",
       "      <td>3.0</td>\n",
       "      <td>1</td>\n",
       "      <td>1.5</td>\n",
       "      <td>50</td>\n",
       "      <td>125</td>\n",
       "      <td>1124.564475</td>\n",
       "    </tr>\n",
       "    <tr>\n",
       "      <td>3</td>\n",
       "      <td>1</td>\n",
       "      <td>6.935539</td>\n",
       "      <td>79.99040</td>\n",
       "      <td>630</td>\n",
       "      <td>49</td>\n",
       "      <td>3.0</td>\n",
       "      <td>1</td>\n",
       "      <td>1.5</td>\n",
       "      <td>50</td>\n",
       "      <td>130</td>\n",
       "      <td>649.773905</td>\n",
       "    </tr>\n",
       "    <tr>\n",
       "      <td>4</td>\n",
       "      <td>1</td>\n",
       "      <td>6.938670</td>\n",
       "      <td>79.98911</td>\n",
       "      <td>578</td>\n",
       "      <td>51</td>\n",
       "      <td>2.0</td>\n",
       "      <td>1</td>\n",
       "      <td>1.5</td>\n",
       "      <td>50</td>\n",
       "      <td>250</td>\n",
       "      <td>619.764486</td>\n",
       "    </tr>\n",
       "  </tbody>\n",
       "</table>\n",
       "</div>"
      ],
      "text/plain": [
       "   center     d_lat    d_long  distance  humadity  wind speed  propeller_size  \\\n",
       "0       1  6.941162  79.99367      1130        50         1.0               1   \n",
       "1       1  6.939394  79.99892      1670        55         2.0               1   \n",
       "2       1  6.937818  79.99546      1210        58         3.0               1   \n",
       "3       1  6.935539  79.99040       630        49         3.0               1   \n",
       "4       1  6.938670  79.98911       578        51         2.0               1   \n",
       "\n",
       "   max_speed  altitude  weight          ETA  \n",
       "0        1.5        50     100  1130.945333  \n",
       "1        1.5        50     150  1523.703030  \n",
       "2        1.5        50     125  1124.564475  \n",
       "3        1.5        50     130   649.773905  \n",
       "4        1.5        50     250   619.764486  "
      ]
     },
     "execution_count": 235,
     "metadata": {},
     "output_type": "execute_result"
    }
   ],
   "source": [
    "dataset.head()"
   ]
  },
  {
   "cell_type": "code",
   "execution_count": 236,
   "metadata": {},
   "outputs": [
    {
     "data": {
      "text/plain": [
       "array([1, 1])"
      ]
     },
     "execution_count": 236,
     "metadata": {},
     "output_type": "execute_result"
    }
   ],
   "source": [
    "# fit dataset into k means\n",
    "kmens = clustering_kmeans.fit(dataset)\n",
    "kmens.predict([[1,6.941162, 79.99367,1130,50,1.0,1,10,50,100,566.4180],[1,6.938670, 79.98911, 578, 51,2.0, 1, 10, 50, 250,351.646]])"
   ]
  },
  {
   "cell_type": "code",
   "execution_count": 237,
   "metadata": {},
   "outputs": [
    {
     "data": {
      "text/html": [
       "<div>\n",
       "<style scoped>\n",
       "    .dataframe tbody tr th:only-of-type {\n",
       "        vertical-align: middle;\n",
       "    }\n",
       "\n",
       "    .dataframe tbody tr th {\n",
       "        vertical-align: top;\n",
       "    }\n",
       "\n",
       "    .dataframe thead th {\n",
       "        text-align: right;\n",
       "    }\n",
       "</style>\n",
       "<table border=\"1\" class=\"dataframe\">\n",
       "  <thead>\n",
       "    <tr style=\"text-align: right;\">\n",
       "      <th></th>\n",
       "      <th>center</th>\n",
       "      <th>d_lat</th>\n",
       "      <th>d_long</th>\n",
       "      <th>distance</th>\n",
       "      <th>humadity</th>\n",
       "      <th>wind speed</th>\n",
       "      <th>propeller_size</th>\n",
       "      <th>max_speed</th>\n",
       "      <th>altitude</th>\n",
       "      <th>weight</th>\n",
       "      <th>clusters</th>\n",
       "    </tr>\n",
       "  </thead>\n",
       "  <tbody>\n",
       "    <tr>\n",
       "      <td>0</td>\n",
       "      <td>1</td>\n",
       "      <td>6.941162</td>\n",
       "      <td>79.993670</td>\n",
       "      <td>1130</td>\n",
       "      <td>50</td>\n",
       "      <td>1.00</td>\n",
       "      <td>1</td>\n",
       "      <td>1.5</td>\n",
       "      <td>50</td>\n",
       "      <td>100</td>\n",
       "      <td>0</td>\n",
       "    </tr>\n",
       "    <tr>\n",
       "      <td>1</td>\n",
       "      <td>1</td>\n",
       "      <td>6.939394</td>\n",
       "      <td>79.998920</td>\n",
       "      <td>1670</td>\n",
       "      <td>55</td>\n",
       "      <td>2.00</td>\n",
       "      <td>1</td>\n",
       "      <td>1.5</td>\n",
       "      <td>50</td>\n",
       "      <td>150</td>\n",
       "      <td>0</td>\n",
       "    </tr>\n",
       "    <tr>\n",
       "      <td>2</td>\n",
       "      <td>1</td>\n",
       "      <td>6.937818</td>\n",
       "      <td>79.995460</td>\n",
       "      <td>1210</td>\n",
       "      <td>58</td>\n",
       "      <td>3.00</td>\n",
       "      <td>1</td>\n",
       "      <td>1.5</td>\n",
       "      <td>50</td>\n",
       "      <td>125</td>\n",
       "      <td>0</td>\n",
       "    </tr>\n",
       "    <tr>\n",
       "      <td>3</td>\n",
       "      <td>1</td>\n",
       "      <td>6.935539</td>\n",
       "      <td>79.990400</td>\n",
       "      <td>630</td>\n",
       "      <td>49</td>\n",
       "      <td>3.00</td>\n",
       "      <td>1</td>\n",
       "      <td>1.5</td>\n",
       "      <td>50</td>\n",
       "      <td>130</td>\n",
       "      <td>1</td>\n",
       "    </tr>\n",
       "    <tr>\n",
       "      <td>4</td>\n",
       "      <td>1</td>\n",
       "      <td>6.938670</td>\n",
       "      <td>79.989110</td>\n",
       "      <td>578</td>\n",
       "      <td>51</td>\n",
       "      <td>2.00</td>\n",
       "      <td>1</td>\n",
       "      <td>1.5</td>\n",
       "      <td>50</td>\n",
       "      <td>250</td>\n",
       "      <td>1</td>\n",
       "    </tr>\n",
       "    <tr>\n",
       "      <td>...</td>\n",
       "      <td>...</td>\n",
       "      <td>...</td>\n",
       "      <td>...</td>\n",
       "      <td>...</td>\n",
       "      <td>...</td>\n",
       "      <td>...</td>\n",
       "      <td>...</td>\n",
       "      <td>...</td>\n",
       "      <td>...</td>\n",
       "      <td>...</td>\n",
       "      <td>...</td>\n",
       "    </tr>\n",
       "    <tr>\n",
       "      <td>395</td>\n",
       "      <td>1</td>\n",
       "      <td>6.941246</td>\n",
       "      <td>79.983663</td>\n",
       "      <td>1270</td>\n",
       "      <td>49</td>\n",
       "      <td>8.00</td>\n",
       "      <td>1</td>\n",
       "      <td>1.5</td>\n",
       "      <td>50</td>\n",
       "      <td>150</td>\n",
       "      <td>0</td>\n",
       "    </tr>\n",
       "    <tr>\n",
       "      <td>396</td>\n",
       "      <td>1</td>\n",
       "      <td>6.944782</td>\n",
       "      <td>79.989413</td>\n",
       "      <td>1050</td>\n",
       "      <td>53</td>\n",
       "      <td>6.90</td>\n",
       "      <td>1</td>\n",
       "      <td>1.5</td>\n",
       "      <td>50</td>\n",
       "      <td>300</td>\n",
       "      <td>0</td>\n",
       "    </tr>\n",
       "    <tr>\n",
       "      <td>397</td>\n",
       "      <td>1</td>\n",
       "      <td>6.948531</td>\n",
       "      <td>79.984092</td>\n",
       "      <td>1320</td>\n",
       "      <td>30</td>\n",
       "      <td>7.80</td>\n",
       "      <td>1</td>\n",
       "      <td>1.5</td>\n",
       "      <td>50</td>\n",
       "      <td>352</td>\n",
       "      <td>0</td>\n",
       "    </tr>\n",
       "    <tr>\n",
       "      <td>398</td>\n",
       "      <td>1</td>\n",
       "      <td>6.941246</td>\n",
       "      <td>79.982847</td>\n",
       "      <td>592</td>\n",
       "      <td>35</td>\n",
       "      <td>7.10</td>\n",
       "      <td>1</td>\n",
       "      <td>1.5</td>\n",
       "      <td>50</td>\n",
       "      <td>345</td>\n",
       "      <td>1</td>\n",
       "    </tr>\n",
       "    <tr>\n",
       "      <td>399</td>\n",
       "      <td>1</td>\n",
       "      <td>6.931204</td>\n",
       "      <td>79.993415</td>\n",
       "      <td>1100</td>\n",
       "      <td>55</td>\n",
       "      <td>1.25</td>\n",
       "      <td>1</td>\n",
       "      <td>1.5</td>\n",
       "      <td>50</td>\n",
       "      <td>70</td>\n",
       "      <td>0</td>\n",
       "    </tr>\n",
       "  </tbody>\n",
       "</table>\n",
       "<p>400 rows × 11 columns</p>\n",
       "</div>"
      ],
      "text/plain": [
       "     center     d_lat     d_long  distance  humadity  wind speed  \\\n",
       "0         1  6.941162  79.993670      1130        50        1.00   \n",
       "1         1  6.939394  79.998920      1670        55        2.00   \n",
       "2         1  6.937818  79.995460      1210        58        3.00   \n",
       "3         1  6.935539  79.990400       630        49        3.00   \n",
       "4         1  6.938670  79.989110       578        51        2.00   \n",
       "..      ...       ...        ...       ...       ...         ...   \n",
       "395       1  6.941246  79.983663      1270        49        8.00   \n",
       "396       1  6.944782  79.989413      1050        53        6.90   \n",
       "397       1  6.948531  79.984092      1320        30        7.80   \n",
       "398       1  6.941246  79.982847       592        35        7.10   \n",
       "399       1  6.931204  79.993415      1100        55        1.25   \n",
       "\n",
       "     propeller_size  max_speed  altitude  weight  clusters  \n",
       "0                 1        1.5        50     100         0  \n",
       "1                 1        1.5        50     150         0  \n",
       "2                 1        1.5        50     125         0  \n",
       "3                 1        1.5        50     130         1  \n",
       "4                 1        1.5        50     250         1  \n",
       "..              ...        ...       ...     ...       ...  \n",
       "395               1        1.5        50     150         0  \n",
       "396               1        1.5        50     300         0  \n",
       "397               1        1.5        50     352         0  \n",
       "398               1        1.5        50     345         1  \n",
       "399               1        1.5        50      70         0  \n",
       "\n",
       "[400 rows x 11 columns]"
      ]
     },
     "execution_count": 237,
     "metadata": {},
     "output_type": "execute_result"
    }
   ],
   "source": [
    "scalerDS = data.drop('ETA', axis = 1 )\n",
    "# scalerDS = scalerDS.drop('clusters', axis = 1)\n",
    "scalerDS"
   ]
  },
  {
   "cell_type": "code",
   "execution_count": 238,
   "metadata": {},
   "outputs": [
    {
     "data": {
      "text/plain": [
       "MinMaxScaler()"
      ]
     },
     "execution_count": 238,
     "metadata": {},
     "output_type": "execute_result"
    }
   ],
   "source": [
    "mms_reg = MinMaxScaler()\n",
    "mms_reg.fit(scalerDS)"
   ]
  },
  {
   "cell_type": "code",
   "execution_count": 239,
   "metadata": {},
   "outputs": [
    {
     "data": {
      "text/plain": [
       "['mms_reg.pkl']"
      ]
     },
     "execution_count": 239,
     "metadata": {},
     "output_type": "execute_result"
    }
   ],
   "source": [
    "# export scaler model\n",
    "import joblib\n",
    "joblib.dump(mms_reg, 'mms_reg.pkl')"
   ]
  },
  {
   "cell_type": "code",
   "execution_count": 240,
   "metadata": {},
   "outputs": [
    {
     "data": {
      "text/html": [
       "<div>\n",
       "<style scoped>\n",
       "    .dataframe tbody tr th:only-of-type {\n",
       "        vertical-align: middle;\n",
       "    }\n",
       "\n",
       "    .dataframe tbody tr th {\n",
       "        vertical-align: top;\n",
       "    }\n",
       "\n",
       "    .dataframe thead th {\n",
       "        text-align: right;\n",
       "    }\n",
       "</style>\n",
       "<table border=\"1\" class=\"dataframe\">\n",
       "  <thead>\n",
       "    <tr style=\"text-align: right;\">\n",
       "      <th></th>\n",
       "      <th>center</th>\n",
       "      <th>d_lat</th>\n",
       "      <th>d_long</th>\n",
       "      <th>distance</th>\n",
       "      <th>humadity</th>\n",
       "      <th>wind speed</th>\n",
       "      <th>propeller_size</th>\n",
       "      <th>max_speed</th>\n",
       "      <th>altitude</th>\n",
       "      <th>weight</th>\n",
       "      <th>ETA</th>\n",
       "      <th>clusters</th>\n",
       "    </tr>\n",
       "  </thead>\n",
       "  <tbody>\n",
       "    <tr>\n",
       "      <td>0</td>\n",
       "      <td>1</td>\n",
       "      <td>6.941162</td>\n",
       "      <td>79.993670</td>\n",
       "      <td>1130</td>\n",
       "      <td>50</td>\n",
       "      <td>1.0</td>\n",
       "      <td>1</td>\n",
       "      <td>1.5</td>\n",
       "      <td>50</td>\n",
       "      <td>100</td>\n",
       "      <td>1130.945333</td>\n",
       "      <td>0</td>\n",
       "    </tr>\n",
       "    <tr>\n",
       "      <td>1</td>\n",
       "      <td>1</td>\n",
       "      <td>6.939394</td>\n",
       "      <td>79.998920</td>\n",
       "      <td>1670</td>\n",
       "      <td>55</td>\n",
       "      <td>2.0</td>\n",
       "      <td>1</td>\n",
       "      <td>1.5</td>\n",
       "      <td>50</td>\n",
       "      <td>150</td>\n",
       "      <td>1523.703030</td>\n",
       "      <td>0</td>\n",
       "    </tr>\n",
       "    <tr>\n",
       "      <td>2</td>\n",
       "      <td>1</td>\n",
       "      <td>6.937818</td>\n",
       "      <td>79.995460</td>\n",
       "      <td>1210</td>\n",
       "      <td>58</td>\n",
       "      <td>3.0</td>\n",
       "      <td>1</td>\n",
       "      <td>1.5</td>\n",
       "      <td>50</td>\n",
       "      <td>125</td>\n",
       "      <td>1124.564475</td>\n",
       "      <td>0</td>\n",
       "    </tr>\n",
       "    <tr>\n",
       "      <td>5</td>\n",
       "      <td>1</td>\n",
       "      <td>6.943207</td>\n",
       "      <td>79.994910</td>\n",
       "      <td>1390</td>\n",
       "      <td>52</td>\n",
       "      <td>1.0</td>\n",
       "      <td>1</td>\n",
       "      <td>1.5</td>\n",
       "      <td>50</td>\n",
       "      <td>240</td>\n",
       "      <td>1352.194658</td>\n",
       "      <td>0</td>\n",
       "    </tr>\n",
       "    <tr>\n",
       "      <td>6</td>\n",
       "      <td>1</td>\n",
       "      <td>6.939266</td>\n",
       "      <td>79.998983</td>\n",
       "      <td>1620</td>\n",
       "      <td>53</td>\n",
       "      <td>3.0</td>\n",
       "      <td>1</td>\n",
       "      <td>1.5</td>\n",
       "      <td>50</td>\n",
       "      <td>230</td>\n",
       "      <td>1459.760277</td>\n",
       "      <td>0</td>\n",
       "    </tr>\n",
       "  </tbody>\n",
       "</table>\n",
       "</div>"
      ],
      "text/plain": [
       "   center     d_lat     d_long  distance  humadity  wind speed  \\\n",
       "0       1  6.941162  79.993670      1130        50         1.0   \n",
       "1       1  6.939394  79.998920      1670        55         2.0   \n",
       "2       1  6.937818  79.995460      1210        58         3.0   \n",
       "5       1  6.943207  79.994910      1390        52         1.0   \n",
       "6       1  6.939266  79.998983      1620        53         3.0   \n",
       "\n",
       "   propeller_size  max_speed  altitude  weight          ETA  clusters  \n",
       "0               1        1.5        50     100  1130.945333         0  \n",
       "1               1        1.5        50     150  1523.703030         0  \n",
       "2               1        1.5        50     125  1124.564475         0  \n",
       "5               1        1.5        50     240  1352.194658         0  \n",
       "6               1        1.5        50     230  1459.760277         0  "
      ]
     },
     "execution_count": 240,
     "metadata": {},
     "output_type": "execute_result"
    }
   ],
   "source": [
    "# loding data recprds of cluster one\n",
    "clusterdDs_1 = data[data.clusters == 0]\n",
    "clusterdDs_1.head()"
   ]
  },
  {
   "cell_type": "code",
   "execution_count": 241,
   "metadata": {},
   "outputs": [],
   "source": [
    "X_1 = clusterdDs_1.drop('ETA',axis=1)\n",
    "Y_1 = clusterdDs_1['ETA']"
   ]
  },
  {
   "cell_type": "code",
   "execution_count": 242,
   "metadata": {},
   "outputs": [],
   "source": [
    "# transform using scalle\n",
    "t_X_1 = mms_reg.transform(X_1)"
   ]
  },
  {
   "cell_type": "code",
   "execution_count": 243,
   "metadata": {},
   "outputs": [],
   "source": [
    "# train test split\n",
    "xTrain_1, xTest_1, yTrain_1, yTest_1 = train_test_split(t_X_1, Y_1, test_size = 0.30, random_state = 42)"
   ]
  },
  {
   "cell_type": "code",
   "execution_count": 244,
   "metadata": {},
   "outputs": [
    {
     "data": {
      "text/plain": [
       "SVR(C=1000.0, gamma='auto', kernel='linear')"
      ]
     },
     "execution_count": 244,
     "metadata": {},
     "output_type": "execute_result"
    }
   ],
   "source": [
    "# svr fit\n",
    "svr_lin_1 = SVR(kernel='linear', C=1e3, gamma= 'auto')\n",
    "svr_lin_1.fit(xTrain_1, yTrain_1)"
   ]
  },
  {
   "cell_type": "code",
   "execution_count": 245,
   "metadata": {},
   "outputs": [],
   "source": [
    "# svr predict\n",
    "yPred_1 = svr_lin_1.predict(xTest_1)"
   ]
  },
  {
   "cell_type": "code",
   "execution_count": 246,
   "metadata": {},
   "outputs": [
    {
     "data": {
      "text/plain": [
       "array([1240.22750464, 1049.2548036 , 1159.54302308, 1132.21110343,\n",
       "       1244.09053355,  996.17986064, 1252.87979285, 1139.52997961,\n",
       "       1105.85933569, 1326.9835728 ,  988.22053766, 1233.36346367,\n",
       "       1157.05458994,  980.76359377, 1243.53423918, 1359.4151169 ,\n",
       "       1393.52695598, 1231.98519689, 1335.62088994, 1197.25756259,\n",
       "       1396.83814452, 1249.00937674, 1188.3885822 ,  991.2862427 ,\n",
       "       1039.5436885 , 1258.43951381, 1132.86035096, 1066.91479424,\n",
       "       1080.94036776, 1108.43179852, 1474.64738451, 1365.35805864,\n",
       "       1317.96051093, 1111.07554361, 1069.06006998, 1032.30456619,\n",
       "        992.66582596, 1018.2262649 , 1297.78151587, 1297.92825687,\n",
       "       1048.00690255, 1185.97812245, 1143.81573448, 1209.05934104,\n",
       "        989.93369803, 1243.8023648 , 1324.22702032, 1268.79752192,\n",
       "       1025.64564656, 1233.04497038, 1277.8531767 , 1190.87876771,\n",
       "       1247.7212389 , 1172.4067814 , 1272.62736621, 1015.67384376,\n",
       "       1079.05905903, 1110.60315648, 1088.52193519, 1297.45277579,\n",
       "       1246.10641709, 1194.4836208 ,  991.01128131, 1165.10946403,\n",
       "       1244.30528596, 1213.49976684, 1163.72237554, 1245.40936493,\n",
       "       1090.39002646, 1391.69549357, 1271.70591485, 1346.60768742,\n",
       "       1194.62515086, 1409.17086124, 1069.53171897, 1224.65833085,\n",
       "       1160.18914957,  979.76503433, 1120.32001474, 1314.23204328,\n",
       "       1280.44611921, 1233.12293676,  987.28055076, 1184.37101442,\n",
       "       1272.6330256 , 1277.43921667, 1302.11192315, 1270.86414162])"
      ]
     },
     "execution_count": 246,
     "metadata": {},
     "output_type": "execute_result"
    }
   ],
   "source": [
    "yPred_1\n"
   ]
  },
  {
   "cell_type": "code",
   "execution_count": 247,
   "metadata": {},
   "outputs": [
    {
     "data": {
      "text/plain": [
       "123    1235.681046\n",
       "360    1052.444253\n",
       "79     1141.463470\n",
       "245    1127.694158\n",
       "199    1230.970667\n",
       "          ...     \n",
       "188    1182.780573\n",
       "153    1262.557001\n",
       "286    1280.247024\n",
       "213    1319.676896\n",
       "27     1265.127044\n",
       "Name: ETA, Length: 88, dtype: float64"
      ]
     },
     "execution_count": 247,
     "metadata": {},
     "output_type": "execute_result"
    }
   ],
   "source": [
    "yTest_1"
   ]
  },
  {
   "cell_type": "code",
   "execution_count": 248,
   "metadata": {},
   "outputs": [
    {
     "data": {
      "text/plain": [
       "0.9835000516654135"
      ]
     },
     "execution_count": 248,
     "metadata": {},
     "output_type": "execute_result"
    }
   ],
   "source": [
    "svr_lin_1.score(xTest_1, yTest_1)"
   ]
  },
  {
   "cell_type": "code",
   "execution_count": 249,
   "metadata": {},
   "outputs": [
    {
     "data": {
      "text/plain": [
       "['reg_1.pkl']"
      ]
     },
     "execution_count": 249,
     "metadata": {},
     "output_type": "execute_result"
    }
   ],
   "source": [
    "import joblib\n",
    "joblib.dump(svr_lin_1, 'reg_1.pkl')"
   ]
  },
  {
   "cell_type": "code",
   "execution_count": 250,
   "metadata": {},
   "outputs": [
    {
     "data": {
      "text/plain": [
       "['Cluster.pkl']"
      ]
     },
     "execution_count": 250,
     "metadata": {},
     "output_type": "execute_result"
    }
   ],
   "source": [
    "# export clustering model\n",
    "import joblib\n",
    "joblib.dump(kmens, 'Cluster.pkl')"
   ]
  },
  {
   "cell_type": "code",
   "execution_count": 251,
   "metadata": {},
   "outputs": [
    {
     "data": {
      "text/html": [
       "<div>\n",
       "<style scoped>\n",
       "    .dataframe tbody tr th:only-of-type {\n",
       "        vertical-align: middle;\n",
       "    }\n",
       "\n",
       "    .dataframe tbody tr th {\n",
       "        vertical-align: top;\n",
       "    }\n",
       "\n",
       "    .dataframe thead th {\n",
       "        text-align: right;\n",
       "    }\n",
       "</style>\n",
       "<table border=\"1\" class=\"dataframe\">\n",
       "  <thead>\n",
       "    <tr style=\"text-align: right;\">\n",
       "      <th></th>\n",
       "      <th>center</th>\n",
       "      <th>d_lat</th>\n",
       "      <th>d_long</th>\n",
       "      <th>distance</th>\n",
       "      <th>humadity</th>\n",
       "      <th>wind speed</th>\n",
       "      <th>propeller_size</th>\n",
       "      <th>max_speed</th>\n",
       "      <th>altitude</th>\n",
       "      <th>weight</th>\n",
       "      <th>ETA</th>\n",
       "      <th>clusters</th>\n",
       "    </tr>\n",
       "  </thead>\n",
       "  <tbody>\n",
       "    <tr>\n",
       "      <td>3</td>\n",
       "      <td>1</td>\n",
       "      <td>6.935539</td>\n",
       "      <td>79.990400</td>\n",
       "      <td>630</td>\n",
       "      <td>49</td>\n",
       "      <td>3.0</td>\n",
       "      <td>1</td>\n",
       "      <td>1.5</td>\n",
       "      <td>50</td>\n",
       "      <td>130</td>\n",
       "      <td>649.773905</td>\n",
       "      <td>1</td>\n",
       "    </tr>\n",
       "    <tr>\n",
       "      <td>4</td>\n",
       "      <td>1</td>\n",
       "      <td>6.938670</td>\n",
       "      <td>79.989110</td>\n",
       "      <td>578</td>\n",
       "      <td>51</td>\n",
       "      <td>2.0</td>\n",
       "      <td>1</td>\n",
       "      <td>1.5</td>\n",
       "      <td>50</td>\n",
       "      <td>250</td>\n",
       "      <td>619.764486</td>\n",
       "      <td>1</td>\n",
       "    </tr>\n",
       "    <tr>\n",
       "      <td>7</td>\n",
       "      <td>1</td>\n",
       "      <td>6.934346</td>\n",
       "      <td>79.988941</td>\n",
       "      <td>496</td>\n",
       "      <td>50</td>\n",
       "      <td>2.0</td>\n",
       "      <td>1</td>\n",
       "      <td>1.5</td>\n",
       "      <td>50</td>\n",
       "      <td>130</td>\n",
       "      <td>552.266174</td>\n",
       "      <td>1</td>\n",
       "    </tr>\n",
       "    <tr>\n",
       "      <td>10</td>\n",
       "      <td>1</td>\n",
       "      <td>6.936838</td>\n",
       "      <td>79.989628</td>\n",
       "      <td>557</td>\n",
       "      <td>53</td>\n",
       "      <td>1.0</td>\n",
       "      <td>1</td>\n",
       "      <td>1.5</td>\n",
       "      <td>50</td>\n",
       "      <td>126</td>\n",
       "      <td>641.056670</td>\n",
       "      <td>1</td>\n",
       "    </tr>\n",
       "    <tr>\n",
       "      <td>14</td>\n",
       "      <td>1</td>\n",
       "      <td>6.936796</td>\n",
       "      <td>79.991859</td>\n",
       "      <td>798</td>\n",
       "      <td>41</td>\n",
       "      <td>2.2</td>\n",
       "      <td>1</td>\n",
       "      <td>1.5</td>\n",
       "      <td>50</td>\n",
       "      <td>214</td>\n",
       "      <td>798.026245</td>\n",
       "      <td>1</td>\n",
       "    </tr>\n",
       "  </tbody>\n",
       "</table>\n",
       "</div>"
      ],
      "text/plain": [
       "    center     d_lat     d_long  distance  humadity  wind speed  \\\n",
       "3        1  6.935539  79.990400       630        49         3.0   \n",
       "4        1  6.938670  79.989110       578        51         2.0   \n",
       "7        1  6.934346  79.988941       496        50         2.0   \n",
       "10       1  6.936838  79.989628       557        53         1.0   \n",
       "14       1  6.936796  79.991859       798        41         2.2   \n",
       "\n",
       "    propeller_size  max_speed  altitude  weight         ETA  clusters  \n",
       "3                1        1.5        50     130  649.773905         1  \n",
       "4                1        1.5        50     250  619.764486         1  \n",
       "7                1        1.5        50     130  552.266174         1  \n",
       "10               1        1.5        50     126  641.056670         1  \n",
       "14               1        1.5        50     214  798.026245         1  "
      ]
     },
     "execution_count": 251,
     "metadata": {},
     "output_type": "execute_result"
    }
   ],
   "source": [
    "# clusted dataset\n",
    "clusterdDs_2 = data[data.clusters == 1]\n",
    "clusterdDs_2.head()"
   ]
  },
  {
   "cell_type": "code",
   "execution_count": 252,
   "metadata": {},
   "outputs": [],
   "source": [
    "# divide features and lable\n",
    "X_2 = clusterdDs_2.drop('ETA',axis=1)\n",
    "Y_2 = clusterdDs_2['ETA']"
   ]
  },
  {
   "cell_type": "code",
   "execution_count": 253,
   "metadata": {},
   "outputs": [],
   "source": [
    "# transform dataset\n",
    "t_X_2 = mms_reg.transform(X_2)"
   ]
  },
  {
   "cell_type": "code",
   "execution_count": 254,
   "metadata": {},
   "outputs": [],
   "source": [
    "# split dataset\n",
    "xTrain_2, xTest_2, yTrain_2, yTest_2 = train_test_split(t_X_2, Y_2, test_size = 0.30, random_state = 42)"
   ]
  },
  {
   "cell_type": "code",
   "execution_count": 255,
   "metadata": {},
   "outputs": [
    {
     "data": {
      "text/plain": [
       "SVR(C=1000.0, gamma='auto', kernel='linear')"
      ]
     },
     "execution_count": 255,
     "metadata": {},
     "output_type": "execute_result"
    }
   ],
   "source": [
    "# svr parameter\n",
    "svr_lin_2 = SVR(kernel='linear', C=1e3, gamma= 'auto')\n",
    "svr_lin_2.fit(xTrain_2, yTrain_2)"
   ]
  },
  {
   "cell_type": "code",
   "execution_count": 259,
   "metadata": {},
   "outputs": [
    {
     "data": {
      "text/plain": [
       "array([[0.        , 0.41609857, 0.64543464, 0.07413249, 0.32258065,\n",
       "        0.94285714, 0.        , 0.        , 1.        , 0.04260652,\n",
       "        1.        ],\n",
       "       [0.        , 0.60672232, 0.62004802, 0.13958991, 0.30645161,\n",
       "        0.04285714, 0.        , 0.        , 1.        , 0.2556391 ,\n",
       "        1.        ],\n",
       "       [0.        , 0.50541358, 0.74846409, 0.31230284, 0.17741935,\n",
       "        0.17142857, 0.        , 0.        , 1.        , 0.20551378,\n",
       "        1.        ],\n",
       "       [0.        , 0.431993  , 0.73444672, 0.27839117, 0.17741935,\n",
       "        0.71428571, 0.        , 0.        , 1.        , 0.13533835,\n",
       "        1.        ],\n",
       "       [0.        , 0.40457876, 0.17579973, 0.47949527, 0.        ,\n",
       "        0.82857143, 0.        , 0.        , 1.        , 0.22807018,\n",
       "        1.        ],\n",
       "       [0.        , 0.24381175, 0.3795989 , 0.32413249, 1.        ,\n",
       "        0.07142857, 0.        , 0.        , 1.        , 0.09398496,\n",
       "        1.        ],\n",
       "       [0.        , 0.51120994, 0.61778829, 0.        , 0.90322581,\n",
       "        0.18571429, 0.        , 0.        , 1.        , 0.62406015,\n",
       "        1.        ],\n",
       "       [0.        , 0.24691043, 0.32882565, 0.35804416, 0.33870968,\n",
       "        0.21428571, 0.        , 0.        , 1.        , 1.        ,\n",
       "        1.        ],\n",
       "       [0.        , 0.57723014, 0.73974296, 0.34148265, 0.98387097,\n",
       "        0.92857143, 0.        , 0.        , 1.        , 0.13533835,\n",
       "        1.        ],\n",
       "       [0.        , 0.57723014, 0.73974296, 0.34148265, 0.33870968,\n",
       "        0.07142857, 0.        , 0.        , 1.        , 0.26817043,\n",
       "        1.        ],\n",
       "       [0.        , 0.50541358, 0.74846409, 0.31230284, 0.17741935,\n",
       "        1.        , 0.        , 0.        , 1.        , 0.02380952,\n",
       "        1.        ],\n",
       "       [0.        , 0.16616237, 0.46218487, 0.43454259, 0.32258065,\n",
       "        0.17142857, 0.        , 0.        , 1.        , 0.04260652,\n",
       "        1.        ],\n",
       "       [0.        , 0.45958952, 0.69694937, 0.17981073, 0.30645161,\n",
       "        0.28571429, 0.        , 0.        , 1.        , 0.10025063,\n",
       "        1.        ],\n",
       "       [0.        , 0.60672232, 0.62004802, 0.13958991, 0.40322581,\n",
       "        0.71428571, 0.        , 0.        , 1.        , 0.02506266,\n",
       "        1.        ],\n",
       "       [0.        , 0.55506544, 0.65754537, 0.12381703, 0.        ,\n",
       "        0.        , 0.        , 0.        , 1.        , 0.62030075,\n",
       "        1.        ],\n",
       "       [0.        , 0.81207393, 0.37119554, 0.47949527, 0.32258065,\n",
       "        0.87142857, 0.        , 0.        , 1.        , 0.13157895,\n",
       "        1.        ],\n",
       "       [0.        , 0.24381175, 0.3795989 , 0.32413249, 0.4516129 ,\n",
       "        0.02857143, 0.        , 0.        , 1.        , 0.06015038,\n",
       "        1.        ],\n",
       "       [0.        , 0.5069447 , 0.66969141, 0.12223975, 0.37096774,\n",
       "        0.94285714, 0.        , 0.        , 1.        , 0.00501253,\n",
       "        1.        ],\n",
       "       [0.        , 0.35565601, 0.15987571, 0.37697161, 0.80645161,\n",
       "        0.04285714, 0.        , 0.        , 1.        , 0.11904762,\n",
       "        1.        ],\n",
       "       [0.        , 0.6676388 , 0.43026622, 0.14984227, 1.        ,\n",
       "        0.14285714, 0.        , 0.        , 0.        , 0.09398496,\n",
       "        1.        ],\n",
       "       [0.        , 0.39006963, 0.69807923, 0.22476341, 0.35483871,\n",
       "        0.1       , 0.        , 0.        , 1.        , 0.09022556,\n",
       "        1.        ],\n",
       "       [0.        , 0.751522  , 0.36664077, 0.39747634, 0.32258065,\n",
       "        0.14285714, 0.        , 0.        , 1.        , 0.10025063,\n",
       "        1.        ],\n",
       "       [0.        , 0.35565601, 0.15987571, 0.37697161, 0.85483871,\n",
       "        0.11428571, 0.        , 0.        , 1.        , 0.09022556,\n",
       "        1.        ],\n",
       "       [0.        , 0.45958952, 0.69694937, 0.17981073, 0.83870968,\n",
       "        0.14285714, 0.        , 0.        , 1.        , 0.62907268,\n",
       "        1.        ],\n",
       "       [0.        , 0.36834239, 0.75870348, 0.37381703, 0.64516129,\n",
       "        0.        , 0.        , 0.        , 1.        , 0.50877193,\n",
       "        1.        ],\n",
       "       [0.        , 0.39006963, 0.69807923, 0.22476341, 0.88709677,\n",
       "        0.15714286, 0.        , 0.        , 1.        , 0.75689223,\n",
       "        1.        ],\n",
       "       [0.        , 0.35565601, 0.15987571, 0.37697161, 0.40322581,\n",
       "        0.14285714, 0.        , 0.        , 1.        , 0.09398496,\n",
       "        1.        ],\n",
       "       [0.        , 0.51120994, 0.61778829, 0.        , 0.90322581,\n",
       "        0.78571429, 0.        , 0.        , 1.        , 0.50877193,\n",
       "        1.        ],\n",
       "       [0.        , 0.51120994, 0.61778829, 0.        , 0.40322581,\n",
       "        0.02857143, 0.        , 0.        , 1.        , 0.20551378,\n",
       "        1.        ],\n",
       "       [0.        , 0.284204  , 0.45837158, 0.15141956, 0.30645161,\n",
       "        0.2       , 0.        , 0.        , 1.        , 0.52005013,\n",
       "        1.        ],\n",
       "       [0.        , 0.51120994, 0.61778829, 0.        , 0.40322581,\n",
       "        0.85714286, 0.        , 0.        , 1.        , 0.        ,\n",
       "        1.        ],\n",
       "       [0.        , 0.431993  , 0.73444672, 0.27839117, 0.32258065,\n",
       "        0.85714286, 0.        , 0.        , 1.        , 0.01253133,\n",
       "        1.        ],\n",
       "       [0.        , 0.57723014, 0.73974296, 0.34148265, 0.19354839,\n",
       "        0.21428571, 0.        , 0.        , 1.        , 0.13784461,\n",
       "        1.        ]])"
      ]
     },
     "execution_count": 259,
     "metadata": {},
     "output_type": "execute_result"
    }
   ],
   "source": [
    "# redict using svr\n",
    "yPred_2 = svr_lin_2.predict(xTest_2)\n",
    "xTest_2"
   ]
  },
  {
   "cell_type": "code",
   "execution_count": 257,
   "metadata": {},
   "outputs": [
    {
     "data": {
      "text/plain": [
       "0.9927623775396721"
      ]
     },
     "execution_count": 257,
     "metadata": {},
     "output_type": "execute_result"
    }
   ],
   "source": [
    "# score of svr\n",
    "svr_lin_2.score(xTest_2, yTest_2)"
   ]
  },
  {
   "cell_type": "code",
   "execution_count": 258,
   "metadata": {},
   "outputs": [
    {
     "data": {
      "text/plain": [
       "['reg_2.pkl']"
      ]
     },
     "execution_count": 258,
     "metadata": {},
     "output_type": "execute_result"
    }
   ],
   "source": [
    "# export svr \n",
    "import joblib\n",
    "joblib.dump(svr_lin_2, 'reg_2.pkl')"
   ]
  },
  {
   "cell_type": "code",
   "execution_count": null,
   "metadata": {},
   "outputs": [],
   "source": []
  }
 ],
 "metadata": {
  "kernelspec": {
   "display_name": "Python 3",
   "language": "python",
   "name": "python3"
  },
  "language_info": {
   "codemirror_mode": {
    "name": "ipython",
    "version": 3
   },
   "file_extension": ".py",
   "mimetype": "text/x-python",
   "name": "python",
   "nbconvert_exporter": "python",
   "pygments_lexer": "ipython3",
   "version": "3.7.4"
  }
 },
 "nbformat": 4,
 "nbformat_minor": 2
}
